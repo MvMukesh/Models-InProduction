{
 "cells": [
  {
   "cell_type": "markdown",
   "id": "2b0f6926",
   "metadata": {},
   "source": [
    "I will use:\n",
    "1. Open source classes\n",
    "2. In house package classes (done by me)"
   ]
  },
  {
   "cell_type": "code",
   "execution_count": 31,
   "id": "9ded61e9",
   "metadata": {},
   "outputs": [],
   "source": [
    "import pandas as pd\n",
    "import numpy as np\n",
    "import matplotlib.pyplot as plt\n",
    "\n",
    "# for saving pipeline\n",
    "import joblib\n",
    "\n",
    "# from Scikit-learn\n",
    "from sklearn.pipeline import Pipeline\n",
    "from sklearn.linear_model import Lasso\n",
    "from sklearn.model_selection import train_test_split\n",
    "from sklearn.metrics import mean_squared_error as mse, r2_score\n",
    "from sklearn.preprocessing import MinMaxScaler, Binarizer\n",
    "\n",
    "# from feature-engine\n",
    "from feature_engine.imputation import (AddMissingIndicator,MeanMedianImputer,CategoricalImputer,)\n",
    "\n",
    "from feature_engine.encoding import (RareLabelEncoder,OrdinalEncoder)\n",
    "\n",
    "from feature_engine.transformation import LogTransformer\n",
    "\n",
    "from feature_engine.selection import DropFeatures\n",
    "from feature_engine.wrappers import SklearnTransformerWrapper\n",
    "\n",
    "#import pre_process as pp\n",
    "import preprocess_ as pp"
   ]
  },
  {
   "cell_type": "code",
   "execution_count": 23,
   "id": "1211781c",
   "metadata": {},
   "outputs": [
    {
     "name": "stdout",
     "output_type": "stream",
     "text": [
      "(1460, 81)\n"
     ]
    },
    {
     "data": {
      "text/html": [
       "<div>\n",
       "<style scoped>\n",
       "    .dataframe tbody tr th:only-of-type {\n",
       "        vertical-align: middle;\n",
       "    }\n",
       "\n",
       "    .dataframe tbody tr th {\n",
       "        vertical-align: top;\n",
       "    }\n",
       "\n",
       "    .dataframe thead th {\n",
       "        text-align: right;\n",
       "    }\n",
       "</style>\n",
       "<table border=\"1\" class=\"dataframe\">\n",
       "  <thead>\n",
       "    <tr style=\"text-align: right;\">\n",
       "      <th></th>\n",
       "      <th>Id</th>\n",
       "      <th>MSSubClass</th>\n",
       "      <th>MSZoning</th>\n",
       "      <th>LotFrontage</th>\n",
       "      <th>LotArea</th>\n",
       "      <th>Street</th>\n",
       "      <th>Alley</th>\n",
       "      <th>LotShape</th>\n",
       "      <th>LandContour</th>\n",
       "      <th>Utilities</th>\n",
       "      <th>...</th>\n",
       "      <th>PoolArea</th>\n",
       "      <th>PoolQC</th>\n",
       "      <th>Fence</th>\n",
       "      <th>MiscFeature</th>\n",
       "      <th>MiscVal</th>\n",
       "      <th>MoSold</th>\n",
       "      <th>YrSold</th>\n",
       "      <th>SaleType</th>\n",
       "      <th>SaleCondition</th>\n",
       "      <th>SalePrice</th>\n",
       "    </tr>\n",
       "  </thead>\n",
       "  <tbody>\n",
       "    <tr>\n",
       "      <th>0</th>\n",
       "      <td>1</td>\n",
       "      <td>60</td>\n",
       "      <td>RL</td>\n",
       "      <td>65.0</td>\n",
       "      <td>8450</td>\n",
       "      <td>Pave</td>\n",
       "      <td>NaN</td>\n",
       "      <td>Reg</td>\n",
       "      <td>Lvl</td>\n",
       "      <td>AllPub</td>\n",
       "      <td>...</td>\n",
       "      <td>0</td>\n",
       "      <td>NaN</td>\n",
       "      <td>NaN</td>\n",
       "      <td>NaN</td>\n",
       "      <td>0</td>\n",
       "      <td>2</td>\n",
       "      <td>2008</td>\n",
       "      <td>WD</td>\n",
       "      <td>Normal</td>\n",
       "      <td>208500</td>\n",
       "    </tr>\n",
       "    <tr>\n",
       "      <th>1</th>\n",
       "      <td>2</td>\n",
       "      <td>20</td>\n",
       "      <td>RL</td>\n",
       "      <td>80.0</td>\n",
       "      <td>9600</td>\n",
       "      <td>Pave</td>\n",
       "      <td>NaN</td>\n",
       "      <td>Reg</td>\n",
       "      <td>Lvl</td>\n",
       "      <td>AllPub</td>\n",
       "      <td>...</td>\n",
       "      <td>0</td>\n",
       "      <td>NaN</td>\n",
       "      <td>NaN</td>\n",
       "      <td>NaN</td>\n",
       "      <td>0</td>\n",
       "      <td>5</td>\n",
       "      <td>2007</td>\n",
       "      <td>WD</td>\n",
       "      <td>Normal</td>\n",
       "      <td>181500</td>\n",
       "    </tr>\n",
       "    <tr>\n",
       "      <th>2</th>\n",
       "      <td>3</td>\n",
       "      <td>60</td>\n",
       "      <td>RL</td>\n",
       "      <td>68.0</td>\n",
       "      <td>11250</td>\n",
       "      <td>Pave</td>\n",
       "      <td>NaN</td>\n",
       "      <td>IR1</td>\n",
       "      <td>Lvl</td>\n",
       "      <td>AllPub</td>\n",
       "      <td>...</td>\n",
       "      <td>0</td>\n",
       "      <td>NaN</td>\n",
       "      <td>NaN</td>\n",
       "      <td>NaN</td>\n",
       "      <td>0</td>\n",
       "      <td>9</td>\n",
       "      <td>2008</td>\n",
       "      <td>WD</td>\n",
       "      <td>Normal</td>\n",
       "      <td>223500</td>\n",
       "    </tr>\n",
       "    <tr>\n",
       "      <th>3</th>\n",
       "      <td>4</td>\n",
       "      <td>70</td>\n",
       "      <td>RL</td>\n",
       "      <td>60.0</td>\n",
       "      <td>9550</td>\n",
       "      <td>Pave</td>\n",
       "      <td>NaN</td>\n",
       "      <td>IR1</td>\n",
       "      <td>Lvl</td>\n",
       "      <td>AllPub</td>\n",
       "      <td>...</td>\n",
       "      <td>0</td>\n",
       "      <td>NaN</td>\n",
       "      <td>NaN</td>\n",
       "      <td>NaN</td>\n",
       "      <td>0</td>\n",
       "      <td>2</td>\n",
       "      <td>2006</td>\n",
       "      <td>WD</td>\n",
       "      <td>Abnorml</td>\n",
       "      <td>140000</td>\n",
       "    </tr>\n",
       "    <tr>\n",
       "      <th>4</th>\n",
       "      <td>5</td>\n",
       "      <td>60</td>\n",
       "      <td>RL</td>\n",
       "      <td>84.0</td>\n",
       "      <td>14260</td>\n",
       "      <td>Pave</td>\n",
       "      <td>NaN</td>\n",
       "      <td>IR1</td>\n",
       "      <td>Lvl</td>\n",
       "      <td>AllPub</td>\n",
       "      <td>...</td>\n",
       "      <td>0</td>\n",
       "      <td>NaN</td>\n",
       "      <td>NaN</td>\n",
       "      <td>NaN</td>\n",
       "      <td>0</td>\n",
       "      <td>12</td>\n",
       "      <td>2008</td>\n",
       "      <td>WD</td>\n",
       "      <td>Normal</td>\n",
       "      <td>250000</td>\n",
       "    </tr>\n",
       "  </tbody>\n",
       "</table>\n",
       "<p>5 rows × 81 columns</p>\n",
       "</div>"
      ],
      "text/plain": [
       "   Id  MSSubClass MSZoning  LotFrontage  LotArea Street Alley LotShape  \\\n",
       "0   1          60       RL         65.0     8450   Pave   NaN      Reg   \n",
       "1   2          20       RL         80.0     9600   Pave   NaN      Reg   \n",
       "2   3          60       RL         68.0    11250   Pave   NaN      IR1   \n",
       "3   4          70       RL         60.0     9550   Pave   NaN      IR1   \n",
       "4   5          60       RL         84.0    14260   Pave   NaN      IR1   \n",
       "\n",
       "  LandContour Utilities  ... PoolArea PoolQC Fence MiscFeature MiscVal MoSold  \\\n",
       "0         Lvl    AllPub  ...        0    NaN   NaN         NaN       0      2   \n",
       "1         Lvl    AllPub  ...        0    NaN   NaN         NaN       0      5   \n",
       "2         Lvl    AllPub  ...        0    NaN   NaN         NaN       0      9   \n",
       "3         Lvl    AllPub  ...        0    NaN   NaN         NaN       0      2   \n",
       "4         Lvl    AllPub  ...        0    NaN   NaN         NaN       0     12   \n",
       "\n",
       "  YrSold  SaleType  SaleCondition  SalePrice  \n",
       "0   2008        WD         Normal     208500  \n",
       "1   2007        WD         Normal     181500  \n",
       "2   2008        WD         Normal     223500  \n",
       "3   2006        WD        Abnorml     140000  \n",
       "4   2008        WD         Normal     250000  \n",
       "\n",
       "[5 rows x 81 columns]"
      ]
     },
     "execution_count": 23,
     "metadata": {},
     "output_type": "execute_result"
    }
   ],
   "source": [
    "data = pd.read_csv('train.csv')\n",
    "print(data.shape)\n",
    "\n",
    "# visualise the dataset\n",
    "data.head()"
   ]
  },
  {
   "cell_type": "code",
   "execution_count": 24,
   "id": "7fea5673",
   "metadata": {},
   "outputs": [],
   "source": [
    "data['MSSubClass'] = data['MSSubClass'].astype('O')"
   ]
  },
  {
   "cell_type": "code",
   "execution_count": 25,
   "id": "7a32e0bb",
   "metadata": {},
   "outputs": [
    {
     "data": {
      "text/plain": [
       "((1314, 79), (146, 79))"
      ]
     },
     "execution_count": 25,
     "metadata": {},
     "output_type": "execute_result"
    }
   ],
   "source": [
    "X_train, X_test, y_train, y_test = train_test_split(data.drop(['Id', 'SalePrice'], \n",
    "                                                              axis=1),data['SalePrice'],\n",
    "                                                    test_size=0.1,random_state=108)\n",
    "\n",
    "X_train.shape, X_test.shape"
   ]
  },
  {
   "cell_type": "code",
   "execution_count": 26,
   "id": "3e6b4a28",
   "metadata": {},
   "outputs": [],
   "source": [
    "y_train = np.log(y_train)\n",
    "y_test = np.log(y_test)"
   ]
  },
  {
   "cell_type": "code",
   "execution_count": 27,
   "id": "4f25fd36",
   "metadata": {},
   "outputs": [],
   "source": [
    "# categorical variables with NA in train set\n",
    "CATEGORICAL_VARS_WITH_NA_FREQUENT = ['BsmtQual', 'BsmtExposure','BsmtFinType1', \n",
    "                                     'GarageFinish']\n",
    "CATEGORICAL_VARS_WITH_NA_MISSING = ['FireplaceQu']\n",
    "\n",
    "# numerical variables with NA in train set\n",
    "NUMERICAL_VARS_WITH_NA = ['LotFrontage']\n",
    "\n",
    "\n",
    "TEMPORAL_VARS = ['YearRemodAdd']\n",
    "REF_VAR = \"YrSold\"\n",
    "\n",
    "# this variable is to calculate temporal variable,can be dropped afterwards\n",
    "DROP_FEATURES = [\"YrSold\"]\n",
    "\n",
    "# variables to log transform\n",
    "NUMERICALS_LOG_VARS = [\"LotFrontage\", \"1stFlrSF\", \"GrLivArea\"]\n",
    "\n",
    "# variables to binarize\n",
    "BINARIZE_VARS = ['ScreenPorch']\n",
    "\n",
    "# variables to map\n",
    "QUAL_VARS = ['ExterQual', 'BsmtQual','HeatingQC', 'KitchenQual', 'FireplaceQu']\n",
    "EXPOSURE_VARS = ['BsmtExposure']\n",
    "FINISH_VARS = ['BsmtFinType1']\n",
    "GARAGE_VARS = ['GarageFinish']\n",
    "FENCE_VARS = ['Fence']\n",
    "\n",
    "# categorical variables to encode\n",
    "CATEGORICAL_VARS = ['MSSubClass',  'MSZoning',  'LotShape',  'LandContour','LotConfig', \n",
    "                    'Neighborhood', 'RoofStyle', 'Exterior1st','Foundation', 'CentralAir', \n",
    "                    'Functional', 'PavedDrive','SaleCondition']\n",
    "\n",
    "# variable mappings\n",
    "QUAL_MAPPINGS = {'Po': 1, 'Fa': 2, 'TA': 3,'Gd': 4, 'Ex': 5, 'Missing': 0, 'NA': 0}\n",
    "EXPOSURE_MAPPINGS = {'No': 1, 'Mn': 2, 'Av': 3, 'Gd': 4}\n",
    "FINISH_MAPPINGS = {'Missing': 0, 'NA': 0, 'Unf': 1,'LwQ': 2, 'Rec': 3, 'BLQ': 4, \n",
    "                   'ALQ': 5, 'GLQ': 6}\n",
    "GARAGE_MAPPINGS = {'Missing': 0, 'NA': 0, 'Unf': 1, 'RFn': 2, 'Fin': 3}"
   ]
  },
  {
   "cell_type": "code",
   "execution_count": 28,
   "id": "b0c4f25b",
   "metadata": {},
   "outputs": [
    {
     "data": {
      "text/plain": [
       "((1314, 37), (146, 37))"
      ]
     },
     "execution_count": 28,
     "metadata": {},
     "output_type": "execute_result"
    }
   ],
   "source": [
    "#selected required FEATURES only\n",
    "FEATURES = ['MSSubClass','MSZoning','LotFrontage','LotShape','LandContour','LotConfig',\n",
    "            'Neighborhood','OverallQual','OverallCond','YearRemodAdd','RoofStyle',\n",
    "            'Exterior1st','ExterQual','Foundation','BsmtQual','BsmtExposure','BsmtFinType1',\n",
    "            'HeatingQC','CentralAir','1stFlrSF','2ndFlrSF','GrLivArea','BsmtFullBath',\n",
    "            'HalfBath','KitchenQual','TotRmsAbvGrd','Functional','Fireplaces','FireplaceQu',\n",
    "            'GarageFinish','GarageCars','GarageArea','PavedDrive','WoodDeckSF','ScreenPorch',\n",
    "            'SaleCondition',\"YrSold\",]\n",
    "\n",
    "#reducing original dataset into only selected features\n",
    "X_train = X_train[FEATURES]\n",
    "X_test = X_test[FEATURES]\n",
    "\n",
    "X_train.shape, X_test.shape"
   ]
  },
  {
   "cell_type": "markdown",
   "id": "7f372b19",
   "metadata": {},
   "source": [
    "# Pipeline - End-to-end\n",
    "\n",
    "Now I have 3 steps less, they are commented out. So pipeline is also simpler:\n",
    "\n",
    "1. yeo-johnson transformation\n",
    "2. 1 of the mappings\n",
    "3. selection procedure\n",
    "\n",
    "this makes pipeline faster and easier to deploy"
   ]
  },
  {
   "cell_type": "code",
   "execution_count": 29,
   "id": "df710b4f",
   "metadata": {},
   "outputs": [],
   "source": [
    "price_pipeline = Pipeline([\n",
    "    ### --- Imputation ---\n",
    "    ## - Categorical variable with string missing -\n",
    "    ('missing_imputation',\n",
    "     CategoricalImputer(imputation_method='missing',\n",
    "                        variables=CATEGORICAL_VARS_WITH_NA_MISSING)),\n",
    "    ('frequent_imputation',\n",
    "     CategoricalImputer(imputation_method='frequent', \n",
    "                        variables=CATEGORICAL_VARS_WITH_NA_FREQUENT)),\n",
    "    #adding missing indicator\n",
    "    ('missing_indicator', \n",
    "     AddMissingIndicator(variables=NUMERICAL_VARS_WITH_NA)),\n",
    "    ## - impute numerica variables with mean -\n",
    "    ('mean_imputation', \n",
    "     MeanMedianImputer(imputation_method='mean', \n",
    "                       variables=NUMERICAL_VARS_WITH_NA)),\n",
    "    \n",
    "    ### --- Temporal Variables ---\n",
    "    ('elapsed_time', \n",
    "     pp.TemporalVariableTransformer(variables=TEMPORAL_VARS, \n",
    "                                    reference_variable=REF_VAR)),\n",
    "    ('drop_features', \n",
    "     DropFeatures(features_to_drop=[REF_VAR])),\n",
    "    \n",
    "    ### --- Transformation ---\n",
    "    ('log', \n",
    "     LogTransformer(variables=NUMERICALS_LOG_VARS)),\n",
    "    ('binarizer', \n",
    "     SklearnTransformerWrapper(transformer=Binarizer(threshold=0),\n",
    "                               variables=BINARIZE_VARS)),\n",
    "    \n",
    "    ### --- Mappers ---\n",
    "    ('mapper_qual', \n",
    "     pp.Mapper(variables=QUAL_VARS, \n",
    "               mappings=QUAL_MAPPINGS)),\n",
    "    ('mapper_exposure', \n",
    "     pp.Mapper(variables=EXPOSURE_VARS, \n",
    "               mappings=EXPOSURE_MAPPINGS)),\n",
    "    ('mapper_finish', \n",
    "     pp.Mapper(variables=FINISH_VARS, \n",
    "               mappings=FINISH_MAPPINGS)),\n",
    "    ('mapper_garage', \n",
    "     pp.Mapper(variables=GARAGE_VARS, \n",
    "               mappings=GARAGE_MAPPINGS)),\n",
    "    ('rare_label_encoder', \n",
    "     RareLabelEncoder(tol=0.01, n_categories=1, \n",
    "                      variables=CATEGORICAL_VARS)),\n",
    "    \n",
    "    ### --- Categorical Encoding ---\n",
    "    ('categorical_encoder', \n",
    "     OrdinalEncoder(encoding_method='ordered', \n",
    "                    variables=CATEGORICAL_VARS)),\n",
    "    ('scaler', MinMaxScaler()),\n",
    "    ('Lasso', Lasso(alpha=0.001,random_state=0))\n",
    "])"
   ]
  },
  {
   "cell_type": "code",
   "execution_count": 30,
   "id": "31209ebe",
   "metadata": {},
   "outputs": [
    {
     "data": {
      "text/plain": [
       "Pipeline(steps=[('missing_imputation',\n",
       "                 CategoricalImputer(variables=['FireplaceQu'])),\n",
       "                ('frequent_imputation',\n",
       "                 CategoricalImputer(imputation_method='frequent',\n",
       "                                    variables=['BsmtQual', 'BsmtExposure',\n",
       "                                               'BsmtFinType1',\n",
       "                                               'GarageFinish'])),\n",
       "                ('missing_indicator',\n",
       "                 AddMissingIndicator(variables=['LotFrontage'])),\n",
       "                ('mean_imputation',\n",
       "                 MeanMedianImputer(imputation_method=...\n",
       "                                             'Foundation', 'CentralAir',\n",
       "                                             'Functional', 'PavedDrive',\n",
       "                                             'SaleCondition'])),\n",
       "                ('categorical_encoder',\n",
       "                 OrdinalEncoder(variables=['MSSubClass', 'MSZoning', 'LotShape',\n",
       "                                           'LandContour', 'LotConfig',\n",
       "                                           'Neighborhood', 'RoofStyle',\n",
       "                                           'Exterior1st', 'Foundation',\n",
       "                                           'CentralAir', 'Functional',\n",
       "                                           'PavedDrive', 'SaleCondition'])),\n",
       "                ('scaler', MinMaxScaler()),\n",
       "                ('Lasso', Lasso(alpha=0.001, random_state=0))])"
      ]
     },
     "execution_count": 30,
     "metadata": {},
     "output_type": "execute_result"
    }
   ],
   "source": [
    "#train pipeline\n",
    "price_pipeline.fit(X_train, y_train)"
   ]
  },
  {
   "cell_type": "markdown",
   "id": "113baa0f",
   "metadata": {},
   "source": [
    "# Evaluating model"
   ]
  },
  {
   "cell_type": "code",
   "execution_count": 33,
   "id": "9ec6d34a",
   "metadata": {},
   "outputs": [
    {
     "name": "stdout",
     "output_type": "stream",
     "text": [
      "train mse: 796713845\n",
      "train rmse: 28226\n",
      "train r2: 0.8741364142168565\n",
      "\n"
     ]
    }
   ],
   "source": [
    "#predictions for train set\n",
    "pred = price_pipeline.predict(X_train)\n",
    "\n",
    "#determining mse, rmse and r2\n",
    "print('train mse: {}'.format(int(mse(np.exp(y_train),np.exp(pred)))))\n",
    "print('train rmse: {}'.format(int(mse(np.exp(y_train),np.exp(pred),squared=False))))\n",
    "print('train r2: {}'.format(r2_score(np.exp(y_train),np.exp(pred))))\n",
    "print()"
   ]
  },
  {
   "cell_type": "code",
   "execution_count": 34,
   "id": "c05bc330",
   "metadata": {},
   "outputs": [
    {
     "name": "stdout",
     "output_type": "stream",
     "text": [
      "test mse: 951637794\n",
      "test rmse: 30848\n",
      "test r2: 0.843899320934139\n",
      "\n",
      "Average house price:  163945\n"
     ]
    }
   ],
   "source": [
    "#predictions for test set\n",
    "pred = price_pipeline.predict(X_test)\n",
    "\n",
    "# determine mse, rmse and r2\n",
    "print('test mse: {}'.format(int(mse(np.exp(y_test),np.exp(pred)))))\n",
    "print('test rmse: {}'.format(int(mse(np.exp(y_test),np.exp(pred),squared=False))))\n",
    "print('test r2: {}'.format(r2_score(np.exp(y_test),np.exp(pred))))\n",
    "print()\n",
    "\n",
    "print('Average house price: ', int(np.exp(y_train).median()))"
   ]
  },
  {
   "cell_type": "code",
   "execution_count": 40,
   "id": "176ebc08",
   "metadata": {},
   "outputs": [
    {
     "data": {
      "image/png": "[encoded data removed]",
      "text/plain": [
       "<Figure size 1296x360 with 1 Axes>"
      ]
     },
     "metadata": {
      "needs_background": "light"
     },
     "output_type": "display_data"
    }
   ],
   "source": [
    "#evaluate predictions respect to real sale price\n",
    "plt.figure(figsize=(18,5))\n",
    "\n",
    "plt.scatter(y_test, price_pipeline.predict(X_test),color='orange')\n",
    "plt.xlabel('True House Price')\n",
    "plt.ylabel('Predicted House Price')\n",
    "plt.title('Evaluation of Lasso Predictions')\n",
    "plt.show()"
   ]
  },
  {
   "cell_type": "code",
   "execution_count": 42,
   "id": "d491a5cc",
   "metadata": {},
   "outputs": [
    {
     "data": {
      "image/png": "[encoded data removed]",
      "text/plain": [
       "<Figure size 1296x360 with 1 Axes>"
      ]
     },
     "metadata": {
      "needs_background": "light"
     },
     "output_type": "display_data"
    }
   ],
   "source": [
    "#distribution of the errors: must be fairly normally distributed\n",
    "plt.figure(figsize=(18,5))\n",
    "\n",
    "y_test.reset_index(drop=True,inplace=True)\n",
    "preds = pd.Series(price_pipeline.predict(X_test))\n",
    "errors = y_test - preds\n",
    "errors.hist(bins=50)\n",
    "plt.show()"
   ]
  },
  {
   "cell_type": "code",
   "execution_count": 44,
   "id": "96a59d1d",
   "metadata": {},
   "outputs": [
    {
     "data": {
      "text/plain": [
       "['price_pipe.joblib']"
      ]
     },
     "execution_count": 44,
     "metadata": {},
     "output_type": "execute_result"
    }
   ],
   "source": [
    "#saving scaler/pipeline in pickle object\n",
    "\n",
    "joblib.dump(price_pipeline, 'price_pipe.joblib') "
   ]
  },
  {
   "cell_type": "markdown",
   "id": "ef265aaf",
   "metadata": {},
   "source": [
    "## Score on new/unseen data"
   ]
  },
  {
   "cell_type": "code",
   "execution_count": 51,
   "id": "905f3456",
   "metadata": {},
   "outputs": [
    {
     "name": "stdout",
     "output_type": "stream",
     "text": [
      "(1459, 37)\n"
     ]
    }
   ],
   "source": [
    "new_data = pd.read_csv('test.csv')\n",
    "new_data.drop('Id',axis=1,inplace=True)\n",
    "\n",
    "new_data['MSSubClass'] = new_data['MSSubClass'].astype('O')\n",
    "\n",
    "new_data = new_data[FEATURES]\n",
    "\n",
    "print(new_data.shape)"
   ]
  },
  {
   "cell_type": "code",
   "execution_count": 52,
   "id": "d9f8245e",
   "metadata": {},
   "outputs": [
    {
     "data": {
      "text/plain": [
       "['MSZoning',\n",
       " 'Exterior1st',\n",
       " 'BsmtFullBath',\n",
       " 'KitchenQual',\n",
       " 'Functional',\n",
       " 'GarageCars',\n",
       " 'GarageArea']"
      ]
     },
     "execution_count": 52,
     "metadata": {},
     "output_type": "execute_result"
    }
   ],
   "source": [
    "##-- new variables with nan/missing values in them \n",
    "new_vars_with_na = [var for var in FEATURES if var not in \n",
    "                    CATEGORICAL_VARS_WITH_NA_FREQUENT+CATEGORICAL_VARS_WITH_NA_MISSING+\n",
    "                    NUMERICAL_VARS_WITH_NA and new_data[var].isnull().sum() > 0]\n",
    "\n",
    "new_vars_with_na"
   ]
  },
  {
   "cell_type": "code",
   "execution_count": 55,
   "id": "5f28367c",
   "metadata": {},
   "outputs": [
    {
     "data": {
      "text/html": [
       "<div>\n",
       "<style scoped>\n",
       "    .dataframe tbody tr th:only-of-type {\n",
       "        vertical-align: middle;\n",
       "    }\n",
       "\n",
       "    .dataframe tbody tr th {\n",
       "        vertical-align: top;\n",
       "    }\n",
       "\n",
       "    .dataframe thead th {\n",
       "        text-align: right;\n",
       "    }\n",
       "</style>\n",
       "<table border=\"1\" class=\"dataframe\">\n",
       "  <thead>\n",
       "    <tr style=\"text-align: right;\">\n",
       "      <th></th>\n",
       "      <th>MSZoning</th>\n",
       "      <th>Exterior1st</th>\n",
       "      <th>BsmtFullBath</th>\n",
       "      <th>KitchenQual</th>\n",
       "      <th>Functional</th>\n",
       "      <th>GarageCars</th>\n",
       "      <th>GarageArea</th>\n",
       "    </tr>\n",
       "  </thead>\n",
       "  <tbody>\n",
       "    <tr>\n",
       "      <th>1454</th>\n",
       "      <td>RM</td>\n",
       "      <td>CemntBd</td>\n",
       "      <td>0.0</td>\n",
       "      <td>TA</td>\n",
       "      <td>Typ</td>\n",
       "      <td>0.0</td>\n",
       "      <td>0.0</td>\n",
       "    </tr>\n",
       "    <tr>\n",
       "      <th>1455</th>\n",
       "      <td>RM</td>\n",
       "      <td>CemntBd</td>\n",
       "      <td>0.0</td>\n",
       "      <td>TA</td>\n",
       "      <td>Typ</td>\n",
       "      <td>1.0</td>\n",
       "      <td>286.0</td>\n",
       "    </tr>\n",
       "    <tr>\n",
       "      <th>1456</th>\n",
       "      <td>RL</td>\n",
       "      <td>VinylSd</td>\n",
       "      <td>1.0</td>\n",
       "      <td>TA</td>\n",
       "      <td>Typ</td>\n",
       "      <td>2.0</td>\n",
       "      <td>576.0</td>\n",
       "    </tr>\n",
       "    <tr>\n",
       "      <th>1457</th>\n",
       "      <td>RL</td>\n",
       "      <td>HdBoard</td>\n",
       "      <td>0.0</td>\n",
       "      <td>TA</td>\n",
       "      <td>Typ</td>\n",
       "      <td>0.0</td>\n",
       "      <td>0.0</td>\n",
       "    </tr>\n",
       "    <tr>\n",
       "      <th>1458</th>\n",
       "      <td>RL</td>\n",
       "      <td>HdBoard</td>\n",
       "      <td>0.0</td>\n",
       "      <td>TA</td>\n",
       "      <td>Typ</td>\n",
       "      <td>3.0</td>\n",
       "      <td>650.0</td>\n",
       "    </tr>\n",
       "  </tbody>\n",
       "</table>\n",
       "</div>"
      ],
      "text/plain": [
       "     MSZoning Exterior1st  BsmtFullBath KitchenQual Functional  GarageCars  \\\n",
       "1454       RM     CemntBd           0.0          TA        Typ         0.0   \n",
       "1455       RM     CemntBd           0.0          TA        Typ         1.0   \n",
       "1456       RL     VinylSd           1.0          TA        Typ         2.0   \n",
       "1457       RL     HdBoard           0.0          TA        Typ         0.0   \n",
       "1458       RL     HdBoard           0.0          TA        Typ         3.0   \n",
       "\n",
       "      GarageArea  \n",
       "1454         0.0  \n",
       "1455       286.0  \n",
       "1456       576.0  \n",
       "1457         0.0  \n",
       "1458       650.0  "
      ]
     },
     "execution_count": 55,
     "metadata": {},
     "output_type": "execute_result"
    }
   ],
   "source": [
    "new_data[new_vars_with_na].tail()"
   ]
  },
  {
   "cell_type": "code",
   "execution_count": 56,
   "id": "7ded6c4b",
   "metadata": {},
   "outputs": [
    {
     "data": {
      "text/plain": [
       "MSZoning        0.002742\n",
       "Exterior1st     0.000685\n",
       "BsmtFullBath    0.001371\n",
       "KitchenQual     0.000685\n",
       "Functional      0.001371\n",
       "GarageCars      0.000685\n",
       "GarageArea      0.000685\n",
       "dtype: float64"
      ]
     },
     "execution_count": 56,
     "metadata": {},
     "output_type": "execute_result"
    }
   ],
   "source": [
    "new_data[new_vars_with_na].isnull().mean()"
   ]
  },
  {
   "cell_type": "markdown",
   "id": "bb7dab86",
   "metadata": {},
   "source": [
    "**`Observation:`**\n",
    "Very few nan values in test/unseen/new dataset which can be droped"
   ]
  },
  {
   "cell_type": "code",
   "execution_count": 58,
   "id": "b9a0d2ec",
   "metadata": {},
   "outputs": [
    {
     "name": "stdout",
     "output_type": "stream",
     "text": [
      "(1449, 37)\n"
     ]
    }
   ],
   "source": [
    "new_data.dropna(subset=new_vars_with_na, inplace=True)\n",
    "\n",
    "print(new_data.shape)"
   ]
  },
  {
   "cell_type": "markdown",
   "id": "9cc09657",
   "metadata": {},
   "source": [
    "Only 10 data points are drope which is not a big loss"
   ]
  },
  {
   "cell_type": "code",
   "execution_count": 62,
   "id": "5fc43c88",
   "metadata": {},
   "outputs": [],
   "source": [
    "new_preds = price_pipeline.predict(new_data)"
   ]
  },
  {
   "cell_type": "code",
   "execution_count": 65,
   "id": "1288a893",
   "metadata": {},
   "outputs": [
    {
     "data": {
      "image/png": "[encoded data removed]",
      "text/plain": [
       "<Figure size 1296x360 with 1 Axes>"
      ]
     },
     "metadata": {
      "needs_background": "light"
     },
     "output_type": "display_data"
    }
   ],
   "source": [
    "plt.figure(figsize=(18,5))\n",
    "\n",
    "pd.Series(np.exp(new_preds)).hist(bins=50)\n",
    "plt.show()"
   ]
  },
  {
   "cell_type": "markdown",
   "id": "d5c3166a",
   "metadata": {},
   "source": [
    "**`NOTE:`**\n",
    "\n",
    "I will have to give special atention to variables which have nan values in `new_data` but dont have any nan values in training data\n",
    "* I will also have to write some code to handle this issue\n",
    "\n",
    "`Variables which will require speciall atention are given bellow`"
   ]
  },
  {
   "cell_type": "code",
   "execution_count": 66,
   "id": "9a1d34d5",
   "metadata": {},
   "outputs": [
    {
     "data": {
      "text/plain": [
       "['MSZoning',\n",
       " 'Exterior1st',\n",
       " 'BsmtFullBath',\n",
       " 'KitchenQual',\n",
       " 'Functional',\n",
       " 'GarageCars',\n",
       " 'GarageArea']"
      ]
     },
     "execution_count": 66,
     "metadata": {},
     "output_type": "execute_result"
    }
   ],
   "source": [
    "new_vars_with_na"
   ]
  }
 ],
 "metadata": {
  "kernelspec": {
   "display_name": "Python 3",
   "language": "python",
   "name": "python3"
  },
  "language_info": {
   "codemirror_mode": {
    "name": "ipython",
    "version": 3
   },
   "file_extension": ".py",
   "mimetype": "text/x-python",
   "name": "python",
   "nbconvert_exporter": "python",
   "pygments_lexer": "ipython3",
   "version": "3.7.7"
  }
 },
 "nbformat": 4,
 "nbformat_minor": 5
}
